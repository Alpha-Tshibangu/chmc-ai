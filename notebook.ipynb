{
 "cells": [
  {
   "cell_type": "code",
   "execution_count": null,
   "metadata": {},
   "outputs": [],
   "source": [
    "import torch\n",
    "print(torch.__version__)"
   ]
  },
  {
   "cell_type": "markdown",
   "metadata": {},
   "source": [
    "C:\\Users\\shamm\\AppData\\Local\\Programs\\Python\\Python310\\python.exe -m uvicorn main:app --reload"
   ]
  },
  {
   "cell_type": "code",
   "execution_count": null,
   "metadata": {},
   "outputs": [],
   "source": [
    "from transformers import pipeline\n",
    "import pandas as pd\n",
    "\n",
    "table = pd.read_csv(\"./assets/fees.csv\")\n",
    "\n",
    "question = \"Iron infusion cost?\"\n",
    "\n",
    "tqa = pipeline(task=\"table-question-answering\", model=\"google/tapas-large-finetuned-wtq\")\n",
    "\n",
    "print(tqa(table=table, query=question)['cells'][0])"
   ]
  },
  {
   "cell_type": "code",
   "execution_count": 38,
   "metadata": {},
   "outputs": [],
   "source": [
    "context = open(\"context.txt\", \"r\").read()"
   ]
  },
  {
   "cell_type": "code",
   "execution_count": null,
   "metadata": {},
   "outputs": [],
   "source": [
    "from transformers import AutoModelForQuestionAnswering, AutoTokenizer, pipeline\n",
    "\n",
    "model_name = \"deepset/roberta-base-squad2\"\n",
    "\n",
    "# a) Get predictions\n",
    "context = open(\"context.txt\", \"r\").read()\n",
    "nlp = pipeline('question-answering', model=model_name, tokenizer=model_name)\n",
    "QA_input = {\n",
    "    'question': input(),\n",
    "    'context': context\n",
    "}\n",
    "res = nlp(QA_input)\n",
    "\n",
    "# b) Load model &amp; tokenizer\n",
    "model = AutoModelForQuestionAnswering.from_pretrained(model_name)\n",
    "tokenizer = AutoTokenizer.from_pretrained(model_name)\n",
    "\n",
    "print(res[\"answer\"])\n"
   ]
  },
  {
   "cell_type": "code",
   "execution_count": 4,
   "metadata": {},
   "outputs": [
    {
     "data": {
      "text/plain": [
       "{'score': 0.08099538832902908,\n",
       " 'start': 2939,\n",
       " 'end': 2955,\n",
       " 'answer': 'Dr Diaa Attallah'}"
      ]
     },
     "execution_count": 4,
     "metadata": {},
     "output_type": "execute_result"
    }
   ],
   "source": [
    "def query(q:str):\n",
    "    model_name = \"deepset/roberta-base-squad2\"\n",
    "    context = open(\"context.txt\", \"r\").read()\n",
    "    nlp = pipeline('question-answering', model=model_name, tokenizer=model_name)\n",
    "    QA_input = {\n",
    "    'question': q,\n",
    "    'context': context\n",
    "    }\n",
    "    res = nlp(QA_input)\n",
    "    model = AutoModelForQuestionAnswering.from_pretrained(model_name)\n",
    "    tokenizer = AutoTokenizer.from_pretrained(model_name)\n",
    "    return res\n",
    "query(\"What's the physio's name?\")"
   ]
  },
  {
   "cell_type": "markdown",
   "metadata": {},
   "source": [
    "**HotDoc Appointments**"
   ]
  },
  {
   "cell_type": "code",
   "execution_count": 2,
   "metadata": {},
   "outputs": [],
   "source": [
    "query = \"book a standard appointment with Dr Karim tomorrow at 3pm\""
   ]
  },
  {
   "cell_type": "code",
   "execution_count": 3,
   "metadata": {},
   "outputs": [
    {
     "name": "stdout",
     "output_type": "stream",
     "text": [
      "eugene\n",
      "standard\n"
     ]
    }
   ],
   "source": [
    "reasons = {\n",
    "    \"standard\": 78264,\n",
    "    \"long\": 78501,\n",
    "    \"afterhours\": 95541,\n",
    "    \"skin check\": 78538,\n",
    "    \"workers compensation (initial)\": 78532,\n",
    "    \"physiotherapy\": 113448,\n",
    "    \"physiotherapy (initial) epc\": 113448,\n",
    "    \"physiotherapy (initial) referred no epc\": 78541,\n",
    "    \"physiotherapy (initial) private or self-referred\": 113445,\n",
    "    \"dietitian (initial) private no epc\": 115322,\n",
    "    \"dietitian (initial) EPC\": 115327,\n",
    "    \"heart health check\": 78539,\n",
    "    \"covid-19 vaccine dose 1 pfizer\": 90374,\n",
    "    \"covid-19 vaccine dose 2 pfizer\": 90375,\n",
    "    \"covid-19 vaccine dose 3 pfizer\": 90376,\n",
    "    \"covid-19 vaccine dose 4 pfizer\": 106756,\n",
    "    \"private flu vaccination\": 78529,\n",
    "    \"government flu vaccination\": 99898,\n",
    "    \"cervical screening test (pap)\": 78533,\n",
    "    \"actewagl injury management initial\": 99736,\n",
    "    \"actewagl injury management follow-up\": 99737,\n",
    "    \"depot injection\": 103683,\n",
    "    \"prolia injection\": 103684\n",
    "}\n",
    "\n",
    "hd = {\n",
    "    \"for\": \"you\",\n",
    "    \"history\": \"first-visit\",\n",
    "    \"reason\": reasons,\n",
    "    \"timezone\": \"Australia Sydney\",\n",
    "}\n",
    "\n",
    "doctors = {\n",
    "    \"dr eugene tshibangu\": 106141, \n",
    "    \"dr karim ahmed\": 117697,\n",
    "    \"dr diaa attallah\": 137023\n",
    "}\n",
    "\n",
    "lquery = query.lower()\n",
    "tok_query = lquery.split(\" \")\n",
    "\n",
    "def drName(tok_query):\n",
    "    for token in tok_query:\n",
    "        if token == 'eugene':\n",
    "            return token \n",
    "        elif token == \"karim\":\n",
    "            return token\n",
    "        elif token == \"diaa\":\n",
    "            return token\n",
    "        else:\n",
    "            \"\"\n",
    "\n",
    "name = drName(tok_query)\n",
    "print(name)\n",
    "\n",
    "def apptReason(tok_query):\n",
    "    for token in tok_query:\n",
    "        for reason in reasons:\n",
    "            if token == reason:\n",
    "                return reason\n",
    "            else:\n",
    "                \"\"\n",
    "\n",
    "reason = apptReason(tok_query)\n",
    "print(reason)\n",
    "\n",
    "doctor_found = ([value for key, value in doctors.items() if name in key.lower()])\n",
    "reason_found = ([value for key, value in reasons.items() if reason in key.lower()])\n",
    "\n",
    "for a in doctor_found:\n",
    "    doctorNum = a\n",
    "\n",
    "for b in reason_found:\n",
    "    reasonFound = b"
   ]
  },
  {
   "cell_type": "code",
   "execution_count": 4,
   "metadata": {},
   "outputs": [
    {
     "data": {
      "text/plain": [
       "{'link': 'https://www.hotdoc.com.au/medical-centres/book/appointment/authenticate?clinic=6848&doctor=106141&for=you&history=first-visit&reason=78264&timezone=Australia%2FSydney&when=2022-11-23T01:00:00.000Z'}"
      ]
     },
     "execution_count": 4,
     "metadata": {},
     "output_type": "execute_result"
    }
   ],
   "source": [
    "from timefhuman import timefhuman\n",
    "import moment\n",
    "\n",
    "dateTime = f\"{timefhuman(query)}\"\n",
    "\n",
    "date = dateTime.split(\"-\")\n",
    "year = int(date[0])\n",
    "month = int(date[1])\n",
    "day = int(date[2].split(\" \")[0])\n",
    "time = dateTime.split(\" \")[1]\n",
    "hour = int(time.split(\":\")[0])\n",
    "minute = int(time.split(\":\")[1])\n",
    "\n",
    "dateTime = f\"{moment.date(year, month, day, hour, minute, 0).subtract(hours=11)}\"\n",
    "adjustedDateTime = dateTime.split(\"+\")[0] + \".000Z\"\n",
    "\n",
    "def url(whoFor, history, reason, doctor, when):\n",
    "    url = f\"https://www.hotdoc.com.au/medical-centres/book/appointment/authenticate?clinic=6848&doctor={doctor}&for={whoFor}&history={history}&reason={reason}&timezone=Australia%2FSydney&when={when}\"\n",
    "    return {\"link\": url}\n",
    "url(hd[\"for\"], hd[\"history\"], reasonFound, doctorNum, adjustedDateTime)"
   ]
  }
 ],
 "metadata": {
  "kernelspec": {
   "display_name": "Python 3.10.8 64-bit",
   "language": "python",
   "name": "python3"
  },
  "language_info": {
   "codemirror_mode": {
    "name": "ipython",
    "version": 3
   },
   "file_extension": ".py",
   "mimetype": "text/x-python",
   "name": "python",
   "nbconvert_exporter": "python",
   "pygments_lexer": "ipython3",
   "version": "3.10.8"
  },
  "orig_nbformat": 4,
  "vscode": {
   "interpreter": {
    "hash": "c22bcfe74de47de73de4290e308731ee46dc1700c25c222a01119f26ce642ff7"
   }
  }
 },
 "nbformat": 4,
 "nbformat_minor": 2
}
